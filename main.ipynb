{
 "cells": [
  {
   "metadata": {
    "ExecuteTime": {
     "end_time": "2025-02-02T10:04:10.295577Z",
     "start_time": "2025-02-02T10:04:07.922612Z"
    }
   },
   "cell_type": "code",
   "source": [
    "import pandas as pd\n",
    "data = pd.read_csv('data/supermarket_sales.csv')"
   ],
   "id": "8a78b64f97f58ec9",
   "outputs": [],
   "execution_count": 2
  },
  {
   "metadata": {},
   "cell_type": "markdown",
   "source": [
    "1. What is the total sales for each product line?\n",
    "2. How do sales trends vary over time? Are there any seasonal patterns?\n",
    "3. What is the most popular payment method among customers?\n",
    "4. How does the sales performance differ by city and branch?\n",
    "5. What is the correlation between quantity sold and total sales?\n",
    "6. What are the spending patterns of Male vs. Female customers?\n",
    "7. How do member and non-member customers differ in their purchase behavior?\n",
    "8. Which product line has the highest average rating?\n",
    "9. What is the impact of gross income on customer ratings?\n",
    "10. How do tax and gross income relate across different product lines?"
   ],
   "id": "425b292678813289"
  },
  {
   "metadata": {
    "ExecuteTime": {
     "end_time": "2025-02-02T10:07:18.578005Z",
     "start_time": "2025-02-02T10:07:18.567516Z"
    }
   },
   "cell_type": "code",
   "source": "print(data.head(10))",
   "id": "d505159758329015",
   "outputs": [
    {
     "name": "stdout",
     "output_type": "stream",
     "text": [
      "    Invoice ID Branch    City Customer type  Gender       Product line  \\\n",
      "0  750-67-8428      A  Yangon        Member  Female  Health and beauty   \n",
      "\n",
      "   Unit price  Quantity   Tax 5%     Total      Date   Time  Payment    cogs  \\\n",
      "0       74.69         7  26.1415  548.9715  1/5/2019  13:08  Ewallet  522.83   \n",
      "\n",
      "   gross margin percentage  gross income  Rating  \n",
      "0                 4.761905       26.1415     9.1  \n"
     ]
    }
   ],
   "execution_count": 6
  },
  {
   "metadata": {
    "ExecuteTime": {
     "end_time": "2025-02-02T10:09:17.422466Z",
     "start_time": "2025-02-02T10:09:17.411575Z"
    }
   },
   "cell_type": "code",
   "source": "print(data.isnull().sum())",
   "id": "11add011148db556",
   "outputs": [
    {
     "name": "stdout",
     "output_type": "stream",
     "text": [
      "Invoice ID                 0\n",
      "Branch                     0\n",
      "City                       0\n",
      "Customer type              0\n",
      "Gender                     0\n",
      "Product line               0\n",
      "Unit price                 0\n",
      "Quantity                   0\n",
      "Tax 5%                     0\n",
      "Total                      0\n",
      "Date                       0\n",
      "Time                       0\n",
      "Payment                    0\n",
      "cogs                       0\n",
      "gross margin percentage    0\n",
      "gross income               0\n",
      "Rating                     0\n",
      "dtype: int64\n"
     ]
    }
   ],
   "execution_count": 8
  },
  {
   "metadata": {},
   "cell_type": "code",
   "outputs": [],
   "execution_count": null,
   "source": "",
   "id": "83e5da54663ad07a"
  }
 ],
 "metadata": {
  "kernelspec": {
   "display_name": "Python 3",
   "language": "python",
   "name": "python3"
  },
  "language_info": {
   "codemirror_mode": {
    "name": "ipython",
    "version": 2
   },
   "file_extension": ".py",
   "mimetype": "text/x-python",
   "name": "python",
   "nbconvert_exporter": "python",
   "pygments_lexer": "ipython2",
   "version": "2.7.6"
  }
 },
 "nbformat": 4,
 "nbformat_minor": 5
}
